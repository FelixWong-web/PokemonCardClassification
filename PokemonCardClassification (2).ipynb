{
  "cells": [
    {
      "cell_type": "markdown",
      "id": "400f3b15",
      "metadata": {
        "id": "400f3b15"
      },
      "source": [
        "So everything below this cell, is simply important imported libraries that will be used later down the line. This first cell is composed of 2 classes; the first one (PokemonCard) is simply the important attributes to a card such as the image url, the rarity, name, and set name. the second (PokemonTCG) is simply requesting with an API key all the necessary information to which i create and save all the files in a pokemon_card.txt file. So given an API key and a list of the sets from which i want the cards from, it will iterate through the list of sets, which will in turn iterate trhough every card in that set to provide me with a total list of cards from all the sets provided.\n",
        "\n",
        "\n",
        "SUPER IMPORTANT NOTE:\n",
        "!!!!Please note that the API, with as many api request as i am doing,may not provide all the cards requested due to overload of request and may interupt the program. Nonetheless, the purpose of the first cell is simply to save all card classes information into a txt file, so that we could work on the data locally instead of requesting more ressources. You should expect aroung 300-400kb of data (which should be sufficient) before getting interrupted. Also it is possible that the server may be experiencing issues and may not run please contact if that happens as i saved all the information on my computer locally and can provide the data to run the res tof the code!!!!"
      ]
    },
    {
      "cell_type": "code",
      "execution_count": 1,
      "id": "2727c6a0",
      "metadata": {
        "id": "2727c6a0",
        "colab": {
          "base_uri": "https://localhost:8080/",
          "height": 139
        },
        "outputId": "08c3bd0a-042c-4c1b-a858-f2cba916c2ac"
      },
      "outputs": [
        {
          "output_type": "execute_result",
          "data": {
            "text/plain": [
              "'\\nclass PokemonTCG:\\n    def __init__(self, api_key):\\n        self.api_key = api_key\\n        self.base_url = \\'https://api.pokemontcg.io/v2/\\'\\n\\n    # Defining a method to retrieve everycard given the set name\\n    def get_cards(self, set_list):\\n        with open(\"pokemon_cards.txt\", \"w\") as f:\\n            for set_code in set_list:\\n                url_set = f\"{self.base_url}sets/{set_code}\"\\n                params = {\\'api_key\\': self.api_key}\\n                response_set = requests.get(url_set, params=params)\\n                # Finding all the cards in a given set\\n                try:\\n                    total_cardset = response_set.json()[\\'data\\'][\\'total\\']\\n                except JSONDecodeError as e:\\n                    print(f\"JSONDecodeError: {e}\")\\n                    f.flush()  # flush the buffer to ensure that everything written so far is saved\\n                    continue  # re-raise the exception so that it can be handled by the calling code\\n                for i in range(1, total_cardset+1):\\n                    # Changing the card by iterating i in the range of the total card set\\n                    url_card = f\"{self.base_url}cards/{set_code}-{i}\"\\n                    response_card = requests.get(url_card, params=params)\\n                    # If the request is fufilled\\n                    if response_card.status_code == 200:\\n                        card_info = response_card.json()[\\'data\\']\\n                        image_url = card_info[\\'images\\'][\\'large\\']\\n                        rarity = card_info[\\'rarity\\']\\n                        if rarity == \"Rare Holo\":\\n                            rarity = \"Rare\"\\n                        elif rarity not in [\"Common\", \"Uncommon\", \"Rare\"]:\\n                            rarity = \"Special Rare\"\\n                        card_name = card_info[\\'name\\']\\n                        set_name = card_info[\\'set\\'][\\'name\\']\\n                        card = PokemonCard(image_url=image_url, rarity=rarity, name=card_name, set_name=set_name)\\n                        f.write(str(card) + \"\\n\")\\n                    # If i make too many API request i need to wait\\n                    elif response_card.status_code == 429:\\n                        # print(f\"Error: {response_card.status_code} - Throttled. Waiting for 1 second...\")\\n                        time.sleep(5)\\n                        # Make the request again\\n                        response_card = requests.get(url_card, params=params)\\n                        if response_card.status_code == 200:\\n                            card_info = response_card.json()[\\'data\\']\\n                            image_url = card_info[\\'images\\'][\\'large\\']\\n                            rarity = card_info[\\'rarity\\']\\n                            if rarity == \"Rare Holo\":\\n                                rarity = \"Rare\"\\n                            elif rarity not in [\"Common\", \"Uncommon\", \"Rare\"]:\\n                                rarity = \"Special Rare\"\\n                            card_name = card_info[\\'name\\']\\n                            set_name = card_info[\\'set\\'][\\'name\\']\\n                            card = PokemonCard(image_url=image_url, rarity=rarity, name=card_name, set_name=set_name)\\n                            f.write(str(card) + \"\\n\")\\n                    else:\\n                        print(\"Could not get specified card, Process will continue ...\")\\n                        '"
            ],
            "application/vnd.google.colaboratory.intrinsic+json": {
              "type": "string"
            }
          },
          "metadata": {},
          "execution_count": 1
        }
      ],
      "source": [
        "import requests\n",
        "import time\n",
        "import os\n",
        "from io import BytesIO\n",
        "import cv2\n",
        "import numpy as np\n",
        "from PIL import Image\n",
        "from json.decoder import JSONDecodeError\n",
        "from sklearn.model_selection import train_test_split\n",
        "import matplotlib.pyplot as plt\n",
        "import matplotlib.image as mpimg\n",
        "import torch\n",
        "import torch.nn as nn\n",
        "import torch.optim as optim\n",
        "import torchvision.transforms as transforms\n",
        "import torchvision.datasets as datasets\n",
        "\n",
        "class PokemonCard:\n",
        "    def __init__(self, image_url, rarity, name, set_name):\n",
        "        self.image_url = image_url\n",
        "        self.rarity = rarity\n",
        "        self.name = name\n",
        "        self.set_name = set_name\n",
        "\n",
        "    def __str__(self):\n",
        "        return f\"Name: {self.name}\\nRarity: {self.rarity}\\nSet: {self.set_name}\\nImage URL: {self.image_url}\"\n",
        "\n",
        "#This is just used to retrieve the information into a txt, but upon asking the prof i was able to use the gdown method to download the data that i collected using this method, and to avoid wasting time, you would have quick access to that file.\n",
        "'''\n",
        "class PokemonTCG:\n",
        "    def __init__(self, api_key):\n",
        "        self.api_key = api_key\n",
        "        self.base_url = 'https://api.pokemontcg.io/v2/'\n",
        "\n",
        "    # Defining a method to retrieve everycard given the set name\n",
        "    def get_cards(self, set_list):\n",
        "        with open(\"pokemon_cards.txt\", \"w\") as f:\n",
        "            for set_code in set_list:\n",
        "                url_set = f\"{self.base_url}sets/{set_code}\"\n",
        "                params = {'api_key': self.api_key}\n",
        "                response_set = requests.get(url_set, params=params)\n",
        "                # Finding all the cards in a given set\n",
        "                try:\n",
        "                    total_cardset = response_set.json()['data']['total']\n",
        "                except JSONDecodeError as e:\n",
        "                    print(f\"JSONDecodeError: {e}\")\n",
        "                    f.flush()  # flush the buffer to ensure that everything written so far is saved\n",
        "                    continue  # re-raise the exception so that it can be handled by the calling code\n",
        "                for i in range(1, total_cardset+1):\n",
        "                    # Changing the card by iterating i in the range of the total card set\n",
        "                    url_card = f\"{self.base_url}cards/{set_code}-{i}\"\n",
        "                    response_card = requests.get(url_card, params=params)\n",
        "                    # If the request is fufilled\n",
        "                    if response_card.status_code == 200:\n",
        "                        card_info = response_card.json()['data']\n",
        "                        image_url = card_info['images']['large']\n",
        "                        rarity = card_info['rarity']\n",
        "                        if rarity == \"Rare Holo\":\n",
        "                            rarity = \"Rare\"\n",
        "                        elif rarity not in [\"Common\", \"Uncommon\", \"Rare\"]:\n",
        "                            rarity = \"Special Rare\"\n",
        "                        card_name = card_info['name']\n",
        "                        set_name = card_info['set']['name']\n",
        "                        card = PokemonCard(image_url=image_url, rarity=rarity, name=card_name, set_name=set_name)\n",
        "                        f.write(str(card) + \"\\n\")\n",
        "                    # If i make too many API request i need to wait\n",
        "                    elif response_card.status_code == 429:\n",
        "                        # print(f\"Error: {response_card.status_code} - Throttled. Waiting for 1 second...\")\n",
        "                        time.sleep(5)\n",
        "                        # Make the request again\n",
        "                        response_card = requests.get(url_card, params=params)\n",
        "                        if response_card.status_code == 200:\n",
        "                            card_info = response_card.json()['data']\n",
        "                            image_url = card_info['images']['large']\n",
        "                            rarity = card_info['rarity']\n",
        "                            if rarity == \"Rare Holo\":\n",
        "                                rarity = \"Rare\"\n",
        "                            elif rarity not in [\"Common\", \"Uncommon\", \"Rare\"]:\n",
        "                                rarity = \"Special Rare\"\n",
        "                            card_name = card_info['name']\n",
        "                            set_name = card_info['set']['name']\n",
        "                            card = PokemonCard(image_url=image_url, rarity=rarity, name=card_name, set_name=set_name)\n",
        "                            f.write(str(card) + \"\\n\")\n",
        "                    else:\n",
        "                        print(\"Could not get specified card, Process will continue ...\")\n",
        "                        '''\n"
      ]
    },
    {
      "cell_type": "markdown",
      "id": "24000d2e",
      "metadata": {
        "id": "24000d2e"
      },
      "source": [
        "In the cell below i simply provide an API key for the class above and a list of all the set to which i want to retrieve card information from, which will all be appended to a brand new file called pokemon_cards.txt"
      ]
    },
    {
      "cell_type": "code",
      "execution_count": null,
      "id": "3472e5e4",
      "metadata": {
        "colab": {
          "base_uri": "https://localhost:8080/",
          "height": 70
        },
        "id": "3472e5e4",
        "outputId": "78d3c48b-3763-4284-aef2-3cc62a7ee546"
      },
      "outputs": [
        {
          "output_type": "execute_result",
          "data": {
            "text/plain": [
              "\"\\napi_key = 'a78365e6-a39c-404e-b110-620ac81bc2b5'\\npokemon_tcg = PokemonTCG(api_key)\\ntr_set_list = ['xy1','xy2','xy3','xy4','xy5','xy6','xy7','xy8','xy9','swsh1','swsh2','swsh3','swsh4','swsh5','swsh6','swsh7','swsh8','swsh9','sm1','sm2','sm3','sm4','sm5','sm6','sm7','sm8','sm9']\\ntr_card_list = pokemon_tcg.get_cards(tr_set_list)\\n\""
            ],
            "application/vnd.google.colaboratory.intrinsic+json": {
              "type": "string"
            }
          },
          "metadata": {},
          "execution_count": 2
        }
      ],
      "source": [
        "# Defining the API key and sets i want to retrieve cards from. no need to run it as youll be downloading the txt file it generated in the next code block.\n",
        "'''\n",
        "api_key = 'a78365e6-a39c-404e-b110-620ac81bc2b5'\n",
        "pokemon_tcg = PokemonTCG(api_key)\n",
        "tr_set_list = ['xy1','xy2','xy3','xy4','xy5','xy6','xy7','xy8','xy9','swsh1','swsh2','swsh3','swsh4','swsh5','swsh6','swsh7','swsh8','swsh9','sm1','sm2','sm3','sm4','sm5','sm6','sm7','sm8','sm9']\n",
        "tr_card_list = pokemon_tcg.get_cards(tr_set_list)\n",
        "'''\n"
      ]
    },
    {
      "cell_type": "code",
      "source": [
        "!gdown 11RJPdrTzby8YYz8o9UwLFI7o5VMTWyab"
      ],
      "metadata": {
        "colab": {
          "base_uri": "https://localhost:8080/"
        },
        "id": "CzEjKN4J1tBk",
        "outputId": "907fdeec-8b38-4266-ed51-38903f368439"
      },
      "id": "CzEjKN4J1tBk",
      "execution_count": 2,
      "outputs": [
        {
          "output_type": "stream",
          "name": "stdout",
          "text": [
            "Downloading...\n",
            "From: https://drive.google.com/uc?id=11RJPdrTzby8YYz8o9UwLFI7o5VMTWyab\n",
            "To: /content/pokemon_cards.txt\n",
            "\r  0% 0.00/431k [00:00<?, ?B/s]\r100% 431k/431k [00:00<00:00, 77.2MB/s]\n"
          ]
        }
      ]
    },
    {
      "cell_type": "markdown",
      "source": [
        "The code below allows me to store all the data from the txt file previously doownloaded in a list called pokemon_cards. it is an array of the PokemonCard class that was defined earlier. "
      ],
      "metadata": {
        "id": "xe9qmD_CQUbs"
      },
      "id": "xe9qmD_CQUbs"
    },
    {
      "cell_type": "code",
      "source": [
        "# Open the text file for reading\n",
        "with open('pokemon_cards.txt', 'r') as f:\n",
        "    lines = f.readlines()\n",
        "\n",
        "# Create an empty list to store PokemonCard objects\n",
        "pokemon_cards = []\n",
        "\n",
        "# Loop through the lines of the file and create PokemonCard objects\n",
        "for i in range(0, len(lines), 4):\n",
        "    name = lines[i].strip().split(': ')[1]\n",
        "    rarity = lines[i+1].strip().split(': ')[1]\n",
        "    set_name = lines[i+2].strip().split(': ')[1]\n",
        "    image_url = lines[i+3].strip().split(': ')[1]\n",
        "    pokemon_card = PokemonCard(image_url=image_url, rarity=rarity, name=name, set_name=set_name)\n",
        "    pokemon_cards.append(pokemon_card)"
      ],
      "metadata": {
        "id": "LqZIstWv3JvH"
      },
      "id": "LqZIstWv3JvH",
      "execution_count": 3,
      "outputs": []
    },
    {
      "cell_type": "markdown",
      "id": "5ff75d64",
      "metadata": {
        "id": "5ff75d64"
      },
      "source": [
        "So here i am splitting my data into 2 different folders with a 80:20 split for training and test data. in those folders i will create 4 more folders (one for each rarity) and will store the cards according to their designated rarity. not only are storing the actually immage (in a jpeg format) but we are also resizing the shape to a (256,256) size."
      ]
    },
    {
      "cell_type": "code",
      "execution_count": 4,
      "id": "387d351a",
      "metadata": {
        "id": "387d351a"
      },
      "outputs": [],
      "source": [
        "# Create directories to store the images\n",
        "train_dir = 'train_images'\n",
        "test_dir = 'test_images'\n",
        "\n",
        "if not os.path.exists(train_dir):\n",
        "    os.makedirs(train_dir)\n",
        "if not os.path.exists(test_dir):\n",
        "    os.makedirs(test_dir)\n",
        "\n",
        "# Split the data into training and testing sets with an 80:20 ratio\n",
        "train_cards, test_cards = train_test_split(pokemon_cards, test_size=0.2, random_state=42)\n",
        "\n",
        "# Download and preprocess the training images\n",
        "for card in train_cards:\n",
        "    response = requests.get(card.image_url)\n",
        "    image = Image.open(BytesIO(response.content)).convert(\"RGB\")\n",
        "    image = image.resize((256, 256))\n",
        "    image_array = np.array(image)\n",
        "    image_array = image_array / 255.0\n",
        "    filename = f\"{card.rarity}_{card.name}.jpg\"\n",
        "    filepath = os.path.join(train_dir, card.rarity, filename)\n",
        "    if not os.path.exists(os.path.join(train_dir, card.rarity)):\n",
        "        os.makedirs(os.path.join(train_dir, card.rarity))\n",
        "    Image.fromarray((image_array * 255).astype(np.uint8)).save(filepath)\n",
        "\n",
        "# Download and preprocess the testing images\n",
        "for card in test_cards:\n",
        "    response = requests.get(card.image_url)\n",
        "    image = Image.open(BytesIO(response.content)).convert(\"RGB\")\n",
        "    image = image.resize((256, 256))\n",
        "    image_array = np.array(image)\n",
        "    image_array = image_array / 255.0\n",
        "    filename = f\"{card.rarity}_{card.name}.jpg\"\n",
        "    filepath = os.path.join(test_dir, card.rarity, filename)\n",
        "    if not os.path.exists(os.path.join(test_dir, card.rarity)):\n",
        "        os.makedirs(os.path.join(test_dir, card.rarity))\n",
        "    Image.fromarray((image_array * 255).astype(np.uint8)).save(filepath)"
      ]
    },
    {
      "cell_type": "markdown",
      "id": "9733b753",
      "metadata": {
        "id": "9733b753"
      },
      "source": [
        "- Here i simply does a bunch of transformation on the format of my trianing data set including resizing, random horizontal flipping, random rotation, color jitter, converting to a tensor, and normalizing the pixel values using mean and standard deviation values specific to the ImageNet dataset.\n",
        "- Next the code loads the training dataset and creates a data loader to iterate over the dataset during training. The data loader takes batches of 16 images at a time and shuffles the data randomly.\n",
        "- Before getting into my CNN model, i define the best hardware option so if a GPU is available we us it to do the calculations, if not, we use the CPU.\n",
        "- Just like we did in the labs,we define the CNN model architecture as a subclass of nn.Module. The model consists of four convolutional layers, each followed by a ReLU activation function and max pooling, two fully connected layers, and a final output layer with four output nodes (corresponding to the four classes in the dataset {Common, Uncommon, Rare, Special Rare}).\n",
        "- We then define the optimizer and loss function used to correct/improve the model.\n",
        "- The code enters a loop over the specified number of epochs (15 in this case), and for each epoch, it loops over all batches of the training data. For each batch, it moves the images and labels to the device, performs a forward pass through the model to obtain predicted labels, calculates the loss based on the difference between predicted and actual labels, and updates the model parameters using backpropagation.\n",
        "- Finally at the end of each epoch i generate the trianing acuracy and plot it for visual assistance. allowing me to see if the mdoel is actually improving or not."
      ]
    },
    {
      "cell_type": "code",
      "execution_count": 5,
      "id": "caf772d8",
      "metadata": {
        "id": "caf772d8",
        "outputId": "a85f176f-685a-424e-d744-f2335e7dc8b8",
        "colab": {
          "base_uri": "https://localhost:8080/",
          "height": 1000
        }
      },
      "outputs": [
        {
          "output_type": "stream",
          "name": "stdout",
          "text": [
            "Yes\n",
            "Starting training...\n",
            "Epoch [1/30], Training Accuracy: 58.69%\n",
            "Epoch [2/30], Training Accuracy: 65.57%\n",
            "Epoch [3/30], Training Accuracy: 63.97%\n",
            "Epoch [4/30], Training Accuracy: 64.96%\n",
            "Epoch [5/30], Training Accuracy: 66.17%\n",
            "Epoch [6/30], Training Accuracy: 72.39%\n",
            "Epoch [7/30], Training Accuracy: 69.75%\n",
            "Epoch [8/30], Training Accuracy: 74.15%\n",
            "Epoch [9/30], Training Accuracy: 74.20%\n",
            "Epoch [10/30], Training Accuracy: 76.35%\n",
            "Epoch [11/30], Training Accuracy: 77.45%\n",
            "Epoch [12/30], Training Accuracy: 77.12%\n",
            "Epoch [13/30], Training Accuracy: 78.60%\n",
            "Epoch [14/30], Training Accuracy: 78.05%\n",
            "Epoch [15/30], Training Accuracy: 79.32%\n",
            "Epoch [16/30], Training Accuracy: 79.21%\n",
            "Epoch [17/30], Training Accuracy: 79.87%\n",
            "Epoch [18/30], Training Accuracy: 79.26%\n",
            "Epoch [19/30], Training Accuracy: 81.85%\n",
            "Epoch [20/30], Training Accuracy: 80.97%\n",
            "Epoch [21/30], Training Accuracy: 82.23%\n",
            "Epoch [22/30], Training Accuracy: 83.44%\n",
            "Epoch [23/30], Training Accuracy: 83.83%\n",
            "Epoch [24/30], Training Accuracy: 82.67%\n",
            "Epoch [25/30], Training Accuracy: 83.72%\n",
            "Epoch [26/30], Training Accuracy: 81.79%\n",
            "Epoch [27/30], Training Accuracy: 83.33%\n",
            "Epoch [28/30], Training Accuracy: 83.66%\n",
            "Epoch [29/30], Training Accuracy: 81.46%\n",
            "Epoch [30/30], Training Accuracy: 84.21%\n"
          ]
        },
        {
          "output_type": "display_data",
          "data": {
            "text/plain": [
              "<Figure size 640x480 with 1 Axes>"
            ],
            "image/png": "[encoded data removed]"
          },
          "metadata": {}
        },
        {
          "output_type": "stream",
          "name": "stdout",
          "text": [
            "Training finished.\n"
          ]
        }
      ],
      "source": [
        "# Define transforms for training and testing data\n",
        "transform = transforms.Compose([\n",
        "    transforms.Resize((224, 224)),\n",
        "    transforms.RandomHorizontalFlip(),\n",
        "    transforms.RandomRotation(10),\n",
        "    transforms.ColorJitter(brightness=0.4, contrast=0.4, saturation=0.4, hue=0.1),\n",
        "    transforms.ToTensor(),\n",
        "    transforms.Normalize(mean=[0.485, 0.456, 0.406],\n",
        "                         std=[0.229, 0.224, 0.225])\n",
        "])\n",
        "\n",
        "# Load dataset\n",
        "train_dataset = datasets.ImageFolder(root='train_images', transform=transform)\n",
        "train_loader = torch.utils.data.DataLoader(train_dataset, batch_size=16, shuffle=True)\n",
        "\n",
        "# Define device, seeing if you ahve a gpu available to use instead of CPU\n",
        "\n",
        "if torch.cuda.is_available():\n",
        "    device = torch.device(\"cuda\")\n",
        "    x = torch.randn(1, 1).to(device)\n",
        "    if x.device.type == \"cuda\":\n",
        "        print(\"Yes\")\n",
        "    else:\n",
        "        print(\"No\")\n",
        "\n",
        "device = torch.device(\"cuda\" if torch.cuda.is_available() else \"cpu\")\n",
        "\n",
        "# Define model\n",
        "class myCNN(nn.Module):\n",
        "    def __init__(self):\n",
        "        super(myCNN, self).__init__()\n",
        "        self.conv1 = nn.Conv2d(3, 32, kernel_size=3, stride=1, padding=1)\n",
        "        self.bn1 = nn.BatchNorm2d(32)\n",
        "        self.conv2 = nn.Conv2d(32, 64, kernel_size=3, stride=1, padding=1)\n",
        "        self.bn2 = nn.BatchNorm2d(64)\n",
        "        self.conv3 = nn.Conv2d(64, 128, kernel_size=3, stride=1, padding=1)\n",
        "        self.bn3 = nn.BatchNorm2d(128)\n",
        "        self.conv4 = nn.Conv2d(128, 256, kernel_size=3, stride=1, padding=1)\n",
        "        self.bn4 = nn.BatchNorm2d(256)\n",
        "        self.conv5 = nn.Conv2d(256, 512, kernel_size=3, stride=1, padding=1)\n",
        "        self.bn5 = nn.BatchNorm2d(512)\n",
        "        self.pool = nn.MaxPool2d(kernel_size=2, stride=2)\n",
        "        self.dropout = nn.Dropout(0.5)\n",
        "        self.fc1 = nn.Linear(512 * 7 * 7, 512)\n",
        "        self.fc2 = nn.Linear(512, 256)\n",
        "        self.fc3 = nn.Linear(256, 4)\n",
        "\n",
        "    def forward(self, x):\n",
        "        x = self.conv1(x)\n",
        "        x = self.bn1(x)\n",
        "        x = nn.ReLU()(x)\n",
        "        x = self.pool(x)\n",
        "        x = self.conv2(x)\n",
        "        x = self.bn2(x)\n",
        "        x = nn.ReLU()(x)\n",
        "        x = self.pool(x)\n",
        "        x = self.conv3(x)\n",
        "        x = self.bn3(x)\n",
        "        x = nn.ReLU()(x)\n",
        "        x = self.pool(x)\n",
        "        x = self.conv4(x)\n",
        "        x = self.bn4(x)\n",
        "        x = nn.ReLU()(x)\n",
        "        x = self.pool(x)\n",
        "        x = self.conv5(x)\n",
        "        x = self.bn5(x)\n",
        "        x = nn.ReLU()(x)\n",
        "        x = self.pool(x)\n",
        "        x = x.view(-1, 512 * 7 * 7)\n",
        "        x = self.dropout(x)\n",
        "        x = nn.ReLU()(self.fc1(x))\n",
        "        x = self.dropout(x)\n",
        "        x = nn.ReLU()(self.fc2(x))\n",
        "        x = self.fc3(x)\n",
        "        return x\n",
        "\n",
        "model = myCNN().to(device)\n",
        "\n",
        "# Define loss function and optimizer\n",
        "criterion = nn.CrossEntropyLoss()\n",
        "learning_rate = 0.001\n",
        "optimizer = optim.SGD(model.parameters(), lr=learning_rate, momentum=0.9)\n",
        "num_epoch = 30\n",
        "print(\"Starting training...\")\n",
        "total_steps = len(train_loader)\n",
        "train_accs = []\n",
        "\n",
        "for epoch in range(num_epoch):\n",
        "    for i, (images, labels) in enumerate(train_loader):\n",
        "        # Move tensors to the configured device\n",
        "        images = images.to(device)\n",
        "        labels = labels.to(device)\n",
        "\n",
        "        # Forward pass\n",
        "        outputs = model(images)\n",
        "        loss = criterion(outputs, labels)\n",
        "\n",
        "        # Backward and optimize\n",
        "        optimizer.zero_grad()\n",
        "        loss.backward()\n",
        "        optimizer.step()\n",
        "\n",
        "    # Calculate training accuracy for this epoch\n",
        "    correct = 0\n",
        "    total = 0\n",
        "    with torch.no_grad():\n",
        "        for images, labels in train_loader:\n",
        "            images = images.to(device)\n",
        "            labels = labels.to(device)\n",
        "            outputs = model(images)\n",
        "            _, predicted = torch.max(outputs.data, 1)\n",
        "            total += labels.size(0)\n",
        "            correct += (predicted == labels).sum().item()\n",
        "\n",
        "    train_acc = 100 * correct / total\n",
        "    train_accs.append(train_acc)\n",
        "\n",
        "    print('Epoch [{}/{}], Training Accuracy: {:.2f}%'\n",
        "          .format(epoch+1, num_epoch, train_acc))\n",
        "\n",
        "# Plot training accuracy over time\n",
        "plt.plot(range(num_epoch), train_accs)\n",
        "plt.title('Training Accuracy')\n",
        "plt.xlabel('Epoch')\n",
        "plt.ylabel('Accuracy (%)')\n",
        "plt.show()\n",
        "        \n",
        "print(\"Training finished.\")"
      ]
    },
    {
      "cell_type": "markdown",
      "id": "c1a790bb",
      "metadata": {
        "id": "c1a790bb"
      },
      "source": [
        "Finally i just need to use my model to predict the cards in my test_images folder in order to see if it can perform well on cards it has never seen before.\n",
        "- In this code, the model is tested on a separate set of images called the test set. Similar to the training set, the test set is loaded using datasets.ImageFolder and torch.utils.data.DataLoader.\n",
        "- The code then uses a with torch.no_grad(): block to disable gradient computation, which reduces memory usage and speeds up computations. Within this block, the test images and their corresponding labels are loaded into the device, and the model is used to generate predictions on the images. The predictions are compared to the true labels to determine the number of correctly classified images, which is added to the correct variable.\n",
        "- Finally i can test the accuracy of the test data with a simple function given the correct and total attribute. which shoudl according to my proposal be around than 80% (hopefully)."
      ]
    },
    {
      "cell_type": "code",
      "execution_count": 6,
      "id": "2db56327",
      "metadata": {
        "id": "2db56327",
        "outputId": "8cf8d45f-c089-4cd5-8b48-b27074cd2e9a",
        "colab": {
          "base_uri": "https://localhost:8080/"
        }
      },
      "outputs": [
        {
          "output_type": "stream",
          "name": "stdout",
          "text": [
            "Accuracy of the model on the test images: 79.00302114803625 %\n"
          ]
        }
      ],
      "source": [
        "test_dataset = datasets.ImageFolder(root='test_images', transform=transform)\n",
        "test_loader = torch.utils.data.DataLoader(test_dataset, batch_size=16, shuffle=False)\n",
        "correct = 0\n",
        "total = 0\n",
        "with torch.no_grad():\n",
        "    for images, labels in test_loader:\n",
        "        images = images.to(device)\n",
        "        labels = labels.to(device)\n",
        "        outputs = model(images)\n",
        "        _, predicted = torch.max(outputs.data, 1)\n",
        "        total += labels.size(0)\n",
        "        correct += (predicted == labels).sum().item()\n",
        "\n",
        "print('Accuracy of the model on the test images: {} %'.format(100 * correct / total))\n"
      ]
    },
    {
      "cell_type": "code",
      "execution_count": null,
      "id": "c8c175da",
      "metadata": {
        "id": "c8c175da"
      },
      "outputs": [],
      "source": []
    }
  ],
  "metadata": {
    "kernelspec": {
      "display_name": "Python 3 (ipykernel)",
      "language": "python",
      "name": "python3"
    },
    "language_info": {
      "codemirror_mode": {
        "name": "ipython",
        "version": 3
      },
      "file_extension": ".py",
      "mimetype": "text/x-python",
      "name": "python",
      "nbconvert_exporter": "python",
      "pygments_lexer": "ipython3",
      "version": "3.11.2"
    },
    "colab": {
      "provenance": []
    },
    "accelerator": "GPU",
    "gpuClass": "standard"
  },
  "nbformat": 4,
  "nbformat_minor": 5
}